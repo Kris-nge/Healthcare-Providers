{
 "cells": [
  {
   "cell_type": "code",
   "execution_count": 3,
   "metadata": {},
   "outputs": [],
   "source": [
    "import pandas as pd\n",
    "import numpy as np\n",
    "import matplotlib.pyplot as plt\n",
    "import seaborn as sns\n",
    "\n",
    "%matplotlib inline"
   ]
  },
  {
   "cell_type": "code",
   "execution_count": 4,
   "metadata": {},
   "outputs": [
    {
     "data": {
      "text/plain": [
       "'1.0.1'"
      ]
     },
     "execution_count": 4,
     "metadata": {},
     "output_type": "execute_result"
    }
   ],
   "source": [
    "pd.__version__"
   ]
  },
  {
   "cell_type": "code",
   "execution_count": 5,
   "metadata": {},
   "outputs": [],
   "source": [
    "outpatient = '..\\data\\MUP_OHP_R19_P04_V10_D17_APC_Provider.xlsx'"
   ]
  },
  {
   "cell_type": "code",
   "execution_count": 6,
   "metadata": {},
   "outputs": [],
   "source": [
    "hospital_OP = pd.read_excel(outpatient, usecols=\"A:N\", header=5)"
   ]
  },
  {
   "cell_type": "code",
   "execution_count": 7,
   "metadata": {},
   "outputs": [],
   "source": [
    "#assign columns name based on numbers of columns\n",
    "hospital_OP.columns = ['Provider_ID', 'Provider_Name', 'Provider_Street', 'Provider_City', 'Provider_State', 'Provider_Zip', \n",
    "              'Provider_Hospital_Referral_Region','APC', 'APC_Description','Beneficiaries','Comprehensive_APC_Services',\n",
    "              'Avg_Est_Total_submitted_amt','Avg_Medicare_Allowed','Avg_Medicare_pymt']"
   ]
  },
  {
   "cell_type": "code",
   "execution_count": 8,
   "metadata": {},
   "outputs": [],
   "source": [
    "#change data type\n",
    "hospital_OP=hospital_OP.astype({'Provider_ID':'str','Provider_Zip':'str', 'APC':'str'})"
   ]
  },
  {
   "cell_type": "code",
   "execution_count": 9,
   "metadata": {},
   "outputs": [
    {
     "name": "stdout",
     "output_type": "stream",
     "text": [
      "<class 'pandas.core.frame.DataFrame'>\n",
      "RangeIndex: 61779 entries, 0 to 61778\n",
      "Data columns (total 14 columns):\n",
      " #   Column                             Non-Null Count  Dtype  \n",
      "---  ------                             --------------  -----  \n",
      " 0   Provider_ID                        61779 non-null  object \n",
      " 1   Provider_Name                      61779 non-null  object \n",
      " 2   Provider_Street                    61779 non-null  object \n",
      " 3   Provider_City                      61779 non-null  object \n",
      " 4   Provider_State                     61779 non-null  object \n",
      " 5   Provider_Zip                       61779 non-null  object \n",
      " 6   Provider_Hospital_Referral_Region  61779 non-null  object \n",
      " 7   APC                                61779 non-null  object \n",
      " 8   APC_Description                    61779 non-null  object \n",
      " 9   Beneficiaries                      60782 non-null  float64\n",
      " 10  Comprehensive_APC_Services         61779 non-null  int64  \n",
      " 11  Avg_Est_Total_submitted_amt        61779 non-null  float64\n",
      " 12  Avg_Medicare_Allowed               61779 non-null  float64\n",
      " 13  Avg_Medicare_pymt                  61779 non-null  float64\n",
      "dtypes: float64(4), int64(1), object(9)\n",
      "memory usage: 6.6+ MB\n"
     ]
    }
   ],
   "source": [
    "hospital_OP.info()"
   ]
  },
  {
   "cell_type": "code",
   "execution_count": null,
   "metadata": {},
   "outputs": [],
   "source": [
    "hospital_OP.to_csv('outpatient.csv', index=False)"
   ]
  },
  {
   "cell_type": "markdown",
   "metadata": {},
   "source": [
    "### Read from HCPCS-APC crosswalk"
   ]
  },
  {
   "cell_type": "code",
   "execution_count": 19,
   "metadata": {},
   "outputs": [
    {
     "name": "stdout",
     "output_type": "stream",
     "text": [
      "<class 'pandas.core.frame.DataFrame'>\n",
      "RangeIndex: 16628 entries, 0 to 16627\n",
      "Data columns (total 4 columns):\n",
      " #   Column            Non-Null Count  Dtype  \n",
      "---  ------            --------------  -----  \n",
      " 0   HCPCS Code        16628 non-null  object \n",
      " 1   Short Descriptor  16628 non-null  object \n",
      " 2   APC               5942 non-null   object \n",
      " 3   Payment Rate      5936 non-null   float64\n",
      "dtypes: float64(1), object(3)\n",
      "memory usage: 519.8+ KB\n"
     ]
    }
   ],
   "source": [
    "hcpcs_APC = pd.read_csv('hcpcs_apc_Description.csv', dtype ={'APC ':str})\n",
    "hcpcs_APC.info()"
   ]
  },
  {
   "cell_type": "code",
   "execution_count": 28,
   "metadata": {},
   "outputs": [
    {
     "data": {
      "text/plain": [
       "Provider_ID                              0\n",
       "Provider_Name                            0\n",
       "Provider_Street                          0\n",
       "Provider_City                            0\n",
       "Provider_State                           0\n",
       "Provider_Zip                             0\n",
       "Provider_Hospital_Referral_Region        0\n",
       "APC                                      0\n",
       "APC_Description                          0\n",
       "Beneficiaries                        56612\n",
       "Comprehensive_APC_Services               0\n",
       "Avg_Est_Total_submitted_amt              0\n",
       "Avg_Medicare_Allowed                     0\n",
       "Avg_Medicare_pymt                        0\n",
       "HCPCS Code                               0\n",
       "Short Descriptor                         0\n",
       "APC                                      0\n",
       "Payment Rate                             0\n",
       "dtype: int64"
      ]
     },
     "execution_count": 28,
     "metadata": {},
     "output_type": "execute_result"
    }
   ],
   "source": [
    "df =pd.merge(hospital_OP,hcpcs_APC, left_on= 'APC', right_on='APC ')\n",
    "df.isna().sum()"
   ]
  },
  {
   "cell_type": "code",
   "execution_count": 31,
   "metadata": {},
   "outputs": [],
   "source": [
    "df_drop=df.dropna()"
   ]
  },
  {
   "cell_type": "code",
   "execution_count": 87,
   "metadata": {},
   "outputs": [
    {
     "name": "stdout",
     "output_type": "stream",
     "text": [
      "<class 'pandas.core.frame.DataFrame'>\n",
      "Int64Index: 4720363 entries, 0 to 4776974\n",
      "Data columns (total 17 columns):\n",
      " #   Column                             Dtype  \n",
      "---  ------                             -----  \n",
      " 0   Provider_ID                        object \n",
      " 1   Provider_Name                      object \n",
      " 2   Provider_Street                    object \n",
      " 3   Provider_City                      object \n",
      " 4   Provider_State                     object \n",
      " 5   Provider_Zip                       object \n",
      " 6   Provider_Hospital_Referral_Region  object \n",
      " 7   APC                                object \n",
      " 8   APC_Description                    object \n",
      " 9   Beneficiaries                      float64\n",
      " 10  Comprehensive_APC_Services         int64  \n",
      " 11  Avg_Est_Total_submitted_amt        float64\n",
      " 12  Avg_Medicare_Allowed               float64\n",
      " 13  Avg_Medicare_pymt                  float64\n",
      " 14  HCPCS Code                         object \n",
      " 15  Short Descriptor                   object \n",
      " 16  Payment Rate                       float64\n",
      "dtypes: float64(5), int64(1), object(11)\n",
      "memory usage: 648.2+ MB\n"
     ]
    }
   ],
   "source": [
    "df_Drop.info()"
   ]
  },
  {
   "cell_type": "markdown",
   "metadata": {},
   "source": [
    "### Read from zip_cbsa.csv file"
   ]
  },
  {
   "cell_type": "code",
   "execution_count": 62,
   "metadata": {},
   "outputs": [
    {
     "name": "stdout",
     "output_type": "stream",
     "text": [
      "<class 'pandas.core.frame.DataFrame'>\n",
      "RangeIndex: 47415 entries, 0 to 47414\n",
      "Data columns (total 2 columns):\n",
      " #   Column  Non-Null Count  Dtype \n",
      "---  ------  --------------  ----- \n",
      " 0   CBSA    47415 non-null  object\n",
      " 1   zip     47415 non-null  object\n",
      "dtypes: object(2)\n",
      "memory usage: 741.0+ KB\n"
     ]
    }
   ],
   "source": [
    "CBSA =pd.read_csv('zip_cbsa.csv', dtype='str')\n",
    "CBSA.info()"
   ]
  },
  {
   "cell_type": "markdown",
   "metadata": {},
   "source": [
    "### Merge outpatient, zip_cbsa, and apc_hcpcs. "
   ]
  },
  {
   "cell_type": "code",
   "execution_count": 94,
   "metadata": {},
   "outputs": [],
   "source": [
    "#Merge outpatient, zip_cbsa, and apc_hcpcs dataFrame\n",
    "hopital_combined =pd.merge(df_Drop, CBSA, how = 'left', left_on ='Provider_Zip', right_on ='zip')"
   ]
  },
  {
   "cell_type": "code",
   "execution_count": 92,
   "metadata": {},
   "outputs": [],
   "source": [
    "#drop na\n",
    "hospital_combined_dropna = hopital_combined.dropna()"
   ]
  },
  {
   "cell_type": "code",
   "execution_count": 93,
   "metadata": {},
   "outputs": [],
   "source": [
    "#save combined file to csv\n",
    "hospital_combined_dropna.to_csv('hospital_combined.csv', index=False)"
   ]
  },
  {
   "cell_type": "markdown",
   "metadata": {},
   "source": [
    "###############################################################################################################################"
   ]
  },
  {
   "cell_type": "code",
   "execution_count": 56,
   "metadata": {},
   "outputs": [
    {
     "name": "stdout",
     "output_type": "stream",
     "text": [
      "<class 'pandas.core.frame.DataFrame'>\n",
      "Int64Index: 1164510 entries, 790458 to 3377240\n",
      "Data columns (total 17 columns):\n",
      " #   Column                             Non-Null Count    Dtype  \n",
      "---  ------                             --------------    -----  \n",
      " 0   Provider_ID                        1164510 non-null  object \n",
      " 1   Provider_Name                      1164510 non-null  object \n",
      " 2   Provider_Street                    1164510 non-null  object \n",
      " 3   Provider_City                      1164510 non-null  object \n",
      " 4   Provider_State                     1164510 non-null  object \n",
      " 5   Provider_Zip                       1164510 non-null  object \n",
      " 6   Provider_Hospital_Referral_Region  1164510 non-null  object \n",
      " 7   APC                                1164510 non-null  object \n",
      " 8   APC_Description                    1164510 non-null  object \n",
      " 9   Beneficiaries                      1164510 non-null  float64\n",
      " 10  Comprehensive_APC_Services         1164510 non-null  int64  \n",
      " 11  Avg_Est_Total_submitted_amt        1164510 non-null  float64\n",
      " 12  Avg_Medicare_Allowed               1164510 non-null  float64\n",
      " 13  Avg_Medicare_pymt                  1164510 non-null  float64\n",
      " 14  HCPCS Code                         1164510 non-null  object \n",
      " 15  Short Descriptor                   1164510 non-null  object \n",
      " 16  Payment Rate                       1164510 non-null  float64\n",
      "dtypes: float64(5), int64(1), object(11)\n",
      "memory usage: 159.9+ MB\n"
     ]
    }
   ],
   "source": [
    "#filter for '5302', '5113'\n",
    "apc_list = ['5302', '5113']\n",
    "APC = df_Drop[df_Drop.APC.isin(apc_list)]\n",
    "APC.info()"
   ]
  },
  {
   "cell_type": "code",
   "execution_count": 63,
   "metadata": {},
   "outputs": [
    {
     "name": "stdout",
     "output_type": "stream",
     "text": [
      "<class 'pandas.core.frame.DataFrame'>\n",
      "Int64Index: 2209 entries, 3243872 to 3377212\n",
      "Data columns (total 17 columns):\n",
      " #   Column                             Non-Null Count  Dtype  \n",
      "---  ------                             --------------  -----  \n",
      " 0   Provider_ID                        2209 non-null   object \n",
      " 1   Provider_Name                      2209 non-null   object \n",
      " 2   Provider_Street                    2209 non-null   object \n",
      " 3   Provider_City                      2209 non-null   object \n",
      " 4   Provider_State                     2209 non-null   object \n",
      " 5   Provider_Zip                       2209 non-null   object \n",
      " 6   Provider_Hospital_Referral_Region  2209 non-null   object \n",
      " 7   APC                                2209 non-null   object \n",
      " 8   APC_Description                    2209 non-null   object \n",
      " 9   Beneficiaries                      2209 non-null   float64\n",
      " 10  Comprehensive_APC_Services         2209 non-null   int64  \n",
      " 11  Avg_Est_Total_submitted_amt        2209 non-null   float64\n",
      " 12  Avg_Medicare_Allowed               2209 non-null   float64\n",
      " 13  Avg_Medicare_pymt                  2209 non-null   float64\n",
      " 14  HCPCS Code                         2209 non-null   object \n",
      " 15  Short Descriptor                   2209 non-null   object \n",
      " 16  Payment Rate                       2209 non-null   float64\n",
      "dtypes: float64(5), int64(1), object(11)\n",
      "memory usage: 310.6+ KB\n"
     ]
    }
   ],
   "source": [
    "Hospital_APC =APC[APC['HCPCS Code'] == '43249']\n",
    "Hospital_APC.info()"
   ]
  },
  {
   "cell_type": "code",
   "execution_count": 72,
   "metadata": {},
   "outputs": [],
   "source": [
    "#zip codes in CBSA\n",
    "CBSA_34980 =CBSA[CBSA.CBSA == '34980']\n",
    "CBSA_34980_df=pd.DataFrame(CBSA_34980)"
   ]
  },
  {
   "cell_type": "code",
   "execution_count": 77,
   "metadata": {},
   "outputs": [
    {
     "name": "stdout",
     "output_type": "stream",
     "text": [
      "<class 'pandas.core.frame.DataFrame'>\n",
      "Int64Index: 17 entries, 0 to 16\n",
      "Data columns (total 19 columns):\n",
      " #   Column                             Non-Null Count  Dtype  \n",
      "---  ------                             --------------  -----  \n",
      " 0   Provider_ID                        17 non-null     object \n",
      " 1   Provider_Name                      17 non-null     object \n",
      " 2   Provider_Street                    17 non-null     object \n",
      " 3   Provider_City                      17 non-null     object \n",
      " 4   Provider_State                     17 non-null     object \n",
      " 5   Provider_Zip                       17 non-null     object \n",
      " 6   Provider_Hospital_Referral_Region  17 non-null     object \n",
      " 7   APC                                17 non-null     object \n",
      " 8   APC_Description                    17 non-null     object \n",
      " 9   Beneficiaries                      17 non-null     float64\n",
      " 10  Comprehensive_APC_Services         17 non-null     int64  \n",
      " 11  Avg_Est_Total_submitted_amt        17 non-null     float64\n",
      " 12  Avg_Medicare_Allowed               17 non-null     float64\n",
      " 13  Avg_Medicare_pymt                  17 non-null     float64\n",
      " 14  HCPCS Code                         17 non-null     object \n",
      " 15  Short Descriptor                   17 non-null     object \n",
      " 16  Payment Rate                       17 non-null     float64\n",
      " 17  CBSA                               17 non-null     object \n",
      " 18  zip                                17 non-null     object \n",
      "dtypes: float64(5), int64(1), object(13)\n",
      "memory usage: 2.7+ KB\n"
     ]
    }
   ],
   "source": [
    "Hospital_APC_5302_CBSA_34980_combined= pd.merge(Hospital_APC, CBSA_34980_df, left_on ='Provider_Zip', right_on ='zip')\n",
    "Hospital_APC_5302_CBSA_34980_combined.info()"
   ]
  },
  {
   "cell_type": "code",
   "execution_count": 82,
   "metadata": {},
   "outputs": [],
   "source": [
    "#Hospital_APC_5302_CBSA_34980_combined= Hospital_APC_5302_CBSA_34980_combined.drop(['zip'], axis=1)\n",
    "#Hospital_APC_5302_CBSA_34980_combined.to_csv('hospital_nashville_5302.csv', index=False)"
   ]
  },
  {
   "cell_type": "code",
   "execution_count": 84,
   "metadata": {},
   "outputs": [],
   "source": [
    "Hospital_APC_5302_CBSA_34980_combined.to_csv('hospital_nashville_5302_new.csv', index=False)"
   ]
  },
  {
   "cell_type": "markdown",
   "metadata": {},
   "source": [
    "#############################################################################"
   ]
  },
  {
   "cell_type": "code",
   "execution_count": null,
   "metadata": {},
   "outputs": [],
   "source": [
    "hospital_OP_5302.to_csv('hospital_OP_5302.csv')"
   ]
  },
  {
   "cell_type": "code",
   "execution_count": null,
   "metadata": {},
   "outputs": [],
   "source": [
    "hospital_OP_5302 = hospital_OP[hospital_OP.APC == '5302']\n",
    "hospital_OP_5302.shape"
   ]
  },
  {
   "cell_type": "code",
   "execution_count": null,
   "metadata": {},
   "outputs": [],
   "source": [
    "CBSA_34980=CBSA[CBSA.CBSA=='34980']\n",
    "CBSA_34980\n"
   ]
  },
  {
   "cell_type": "code",
   "execution_count": null,
   "metadata": {},
   "outputs": [],
   "source": [
    "#ZIP list for CBSA 34980\n",
    "CBSA_ZIP_list =['37010', '37011', '37012', '37013', '37014', '37015', '37016',\n",
    "       '37018', '37020', '37022', '37024', '37025', '37026', '37027',\n",
    "       '37029', '37030', '37031', '37032', '37035', '37036', '37037',\n",
    "       '37043', '37046', '37048', '37049', '37051', '37052', '37055',\n",
    "       '37056', '37057', '37060', '37062', '37063', '37064', '37065',\n",
    "       '37066', '37067', '37068', '37069', '37070', '37071', '37072',\n",
    "       '37073', '37074', '37075', '37076', '37077', '37080', '37082',\n",
    "       '37083', '37085', '37086', '37087', '37088', '37089', '37090',\n",
    "       '37091', '37095', '37101', '37110', '37115', '37116', '37118',\n",
    "       '37119', '37121', '37122', '37127', '37128', '37129', '37130',\n",
    "       '37131', '37132', '37133', '37135', '37138', '37141', '37143',\n",
    "       '37145', '37146', '37148', '37149', '37150', '37151', '37152',\n",
    "       '37153', '37160', '37165', '37166', '37167', '37171', '37172',\n",
    "       '37174', '37179', '37180', '37181', '37184', '37186', '37187',\n",
    "       '37188', '37189', '37190', '37201', '37202', '37203', '37204',\n",
    "       '37205', '37206', '37207', '37208', '37209', '37210', '37211',\n",
    "       '37212', '37213', '37214', '37215', '37216', '37217', '37218',\n",
    "       '37219', '37220', '37221', '37222', '37224', '37227', '37228',\n",
    "       '37229', '37232', '37234', '37235', '37236', '37238', '37240',\n",
    "       '37242', '37243', '37246', '37250', '37357', '38401', '38402',\n",
    "       '38451', '38454', '38461', '38472', '38474', '38476', '38482',\n",
    "       '38483', '38487', '38547', '38548', '38552', '38560', '38563',\n",
    "       '38567', '38569', '38588']"
   ]
  },
  {
   "cell_type": "code",
   "execution_count": null,
   "metadata": {},
   "outputs": [],
   "source": [
    "hospital_5302_cbsa_nashville=pd.merge(hospital_OP_5302,CBSA_34980, how='left', left_on='Provider_Zip', right_on='zip')\n",
    "hospital_5302_cbsa_nashville=hospital_5302_CBSA_34980.dropna()\n",
    "hospital_5302_cbsa_nashville.shape"
   ]
  },
  {
   "cell_type": "code",
   "execution_count": null,
   "metadata": {},
   "outputs": [],
   "source": [
    "hospital_5302_cbsa_nashville.to_csv('hospital_5302_cbsa_nashville.csv', index=False)"
   ]
  },
  {
   "cell_type": "code",
   "execution_count": null,
   "metadata": {},
   "outputs": [],
   "source": [
    "hospital_nashville_5302 = hospital_OP_5302[hospital_OP_5302.Provider_Zip.isin(CBSA_ZIP_list)]\n",
    "hospital_nashville_5302.describe()"
   ]
  },
  {
   "cell_type": "code",
   "execution_count": null,
   "metadata": {},
   "outputs": [],
   "source": [
    "hospital_nashville_5302[['Provider_Name','Provider_City','Provider_Zip','Avg_Medicare_Allowed','Avg_Medicare_pymt']][hospital_nashville_5302['Avg_Medicare_Allowed']>=1208.848899]"
   ]
  },
  {
   "cell_type": "code",
   "execution_count": null,
   "metadata": {},
   "outputs": [],
   "source": [
    "hospital_nashville_5302.shape"
   ]
  },
  {
   "cell_type": "code",
   "execution_count": null,
   "metadata": {},
   "outputs": [],
   "source": [
    "hospital_nashville_5302.to_csv('hospital_nashville_5302.csv', index=False)"
   ]
  },
  {
   "cell_type": "code",
   "execution_count": null,
   "metadata": {},
   "outputs": [],
   "source": [
    "plt.figure(figsize=(8,6))\n",
    "ax = sns.scatterplot(x='Provider_Zip', y=\"Avg_Medicare_Allowed\", hue =\"Provider_City\", data= hospital_nashville_5302, legend=None)\n",
    "#ax.set_xticklabels(ax.get_xticklabels(), rotation=45, horizontalalignment='right')\n",
    "plt.xticks(rotation=90, horizontalalignment='right',fontweight='light',fontsize='x-large')"
   ]
  },
  {
   "cell_type": "code",
   "execution_count": null,
   "metadata": {},
   "outputs": [],
   "source": [
    "hospital_nashville_5302.groupby('Provider_City').Avg_Medicare_Allowed.agg(['max','mean','min'])"
   ]
  },
  {
   "cell_type": "code",
   "execution_count": null,
   "metadata": {},
   "outputs": [],
   "source": [
    "result = hospital_nashville_5302.groupby(['Provider_City','Provider_Name'])\n",
    "result.first()"
   ]
  },
  {
   "cell_type": "code",
   "execution_count": null,
   "metadata": {},
   "outputs": [],
   "source": [
    "hospital_ASC5113=hospital_OP[['Provider_Name', 'Provider_State','Provider_Zip', 'Provider_Hospital_Referral_Region','APC','APC_Description','Avg_Medicare_Allowed']][hospital_OP['APC']=='5113']"
   ]
  },
  {
   "cell_type": "code",
   "execution_count": null,
   "metadata": {},
   "outputs": [],
   "source": [
    "hospital_ASC5113.max()"
   ]
  },
  {
   "cell_type": "markdown",
   "metadata": {},
   "source": [
    "#### Find well populated APC in Hospital_Outpatient file"
   ]
  },
  {
   "cell_type": "code",
   "execution_count": null,
   "metadata": {},
   "outputs": [],
   "source": [
    "(hospital_OP.APC.value_counts() > 500) & (hospital_OP.APC.value_counts() < 2000)"
   ]
  },
  {
   "cell_type": "code",
   "execution_count": null,
   "metadata": {},
   "outputs": [],
   "source": [
    "hospital_5114_NY = hospital_OP[(hospital_OP.APC == '5114') & (hospital_OP.Provider_State == 'NY')]\n",
    "hospital_5114_NY.shape"
   ]
  },
  {
   "cell_type": "code",
   "execution_count": null,
   "metadata": {},
   "outputs": [],
   "source": [
    "hospital_5113_NY = hospital_OP[(hospital_OP.APC == '5113') & (hospital_OP.Provider_State == 'NY')]\n",
    "hospital_5113_NY.shape"
   ]
  },
  {
   "cell_type": "code",
   "execution_count": null,
   "metadata": {},
   "outputs": [],
   "source": [
    "hospital_5113 =hospital_OP[(hospital_OP.APC == '5113')]\n",
    "hospital_5113.info()"
   ]
  },
  {
   "cell_type": "code",
   "execution_count": null,
   "metadata": {},
   "outputs": [],
   "source": [
    "hospital_5113_zip=hospital_5113.Provider_Zip.unique()\n",
    "hospital_5113_zip_list=hospital_5113_zip.tolist()"
   ]
  },
  {
   "cell_type": "code",
   "execution_count": null,
   "metadata": {},
   "outputs": [],
   "source": []
  },
  {
   "cell_type": "code",
   "execution_count": null,
   "metadata": {},
   "outputs": [],
   "source": [
    "cbsa_5113=CBSA[CBSA.zip.isin(hospital_5113_zip_list)]\n",
    "cbsa_35620_APC_5113=cbsa_5113[cbsa_5113.CBSA == '35620']\n",
    "cbsa_35620_APC_5113.shape"
   ]
  },
  {
   "cell_type": "code",
   "execution_count": null,
   "metadata": {},
   "outputs": [],
   "source": [
    "hospital_5113_cbsa_inner = pd.merge(hospital_5113,cbsa_35620_APC_5113, how='inner', left_on = 'Provider_Zip', right_on = 'zip')\n",
    "hospital_5113_cbsa.isna().sum()\n",
    "hospital_5113_cbsa_left_drop=hospital_5113_cbsa_inner.dropna()\n",
    "hospital_5113_cbsa_left_drop.shape"
   ]
  },
  {
   "cell_type": "code",
   "execution_count": null,
   "metadata": {},
   "outputs": [],
   "source": [
    "hospital_5113_cbsa_left = pd.merge(hospital_5113,cbsa_35620_APC_5113, how='left', left_on = 'Provider_Zip', right_on = 'zip')\n",
    "hospital_5113_cbsa.isna().sum()\n",
    "hospital_5113_cbsa_left_drop=hospital_5113_cbsa_left.dropna()\n",
    "hospital_5113_cbsa_left_drop.shape"
   ]
  },
  {
   "cell_type": "markdown",
   "metadata": {},
   "source": [
    "# Use this csv file 'hospital_5113_cbsa_35620.csv' for visualization"
   ]
  },
  {
   "cell_type": "code",
   "execution_count": null,
   "metadata": {},
   "outputs": [],
   "source": [
    "hospital_5113_cbsa_drop =hospital_5113_cbsa.dropna()\n",
    "hospital_5113_cbsa_drop.to_csv('hospital_5113_cbsa_35620.csv',index=False)\n"
   ]
  },
  {
   "cell_type": "markdown",
   "metadata": {},
   "source": [
    "generate code to see if which CBSA numbers are"
   ]
  },
  {
   "cell_type": "code",
   "execution_count": null,
   "metadata": {},
   "outputs": [],
   "source": [
    "hospital_5492 = hospital_OP[(hospital_OP.APC == '5492') & (hospital_OP.Provider_State == 'NJ') |  (hospital_OP.Provider_State == 'NY')]\n",
    "hospital_5492.tail()"
   ]
  },
  {
   "cell_type": "markdown",
   "metadata": {},
   "source": [
    "### Hospital Outpatient APC codes for 5491,5492, 5113, 5114\n"
   ]
  },
  {
   "cell_type": "code",
   "execution_count": null,
   "metadata": {},
   "outputs": [],
   "source": [
    "apcs = ['5113', '5114', '5491', '5492']\n",
    "\n",
    "OUTPATIENT_Hospital =hospital_OP[hospital_OP['APC'].isin(apcs)]\n",
    "\n",
    "#OUTPATIENT_Hospital.to_csv('OUTPATIENT_Hospital.csv', index=False)\n",
    "#OUTPATIENT_Hospital.shape"
   ]
  },
  {
   "cell_type": "code",
   "execution_count": null,
   "metadata": {},
   "outputs": [],
   "source": [
    "OUTPATIENT_Hospital[['Provider_Name', 'Provider_State','Avg_Medicare_Allowed','APC_Description']][(OUTPATIENT_Hospital.APC == '5492') & (OUTPATIENT_Hospital.Provider_State =='NY' )].max()"
   ]
  },
  {
   "cell_type": "code",
   "execution_count": null,
   "metadata": {},
   "outputs": [],
   "source": [
    "OUTPATIENT_Hospital"
   ]
  },
  {
   "cell_type": "markdown",
   "metadata": {},
   "source": [
    "### FIND zip codes related to CBSA 35620 and filter Outpatient data based on the zip codes "
   ]
  },
  {
   "cell_type": "code",
   "execution_count": null,
   "metadata": {},
   "outputs": [],
   "source": [
    "CBSA =pd.read_csv('zip_cbsa.csv', dtype='str')\n",
    "CBSA.head()"
   ]
  },
  {
   "cell_type": "code",
   "execution_count": null,
   "metadata": {},
   "outputs": [],
   "source": [
    "cbsa_35620=CBSA[CBSA.CBSA == '35620']\n",
    "cbsa_35620_list = cbsa_35620['zip'].tolist()"
   ]
  },
  {
   "cell_type": "code",
   "execution_count": null,
   "metadata": {},
   "outputs": [],
   "source": [
    "#find the hospital names within zip codes in CBSA 35620\n",
    "OUTPATIENT_Hospital_CBSA_35620=OUTPATIENT_Hospital[OUTPATIENT_Hospital.Provider_Zip.isin(cbsa_35620_list)]\n",
    "\n",
    "#check to see how many records in each APC\n",
    "OUTPATIENT_Hospital_CBSA_35620.groupby('APC').count()\n",
    "\n",
    "#Save the result in csv file\n",
    "#OUTPATIENT_Hospital_CBSA_35620.to_csv('OUTPATIENT_Hospital_CBSA_35620.csv', index=False)"
   ]
  },
  {
   "cell_type": "code",
   "execution_count": null,
   "metadata": {},
   "outputs": [],
   "source": []
  }
 ],
 "metadata": {
  "kernelspec": {
   "display_name": "Python 3",
   "language": "python",
   "name": "python3"
  },
  "language_info": {
   "codemirror_mode": {
    "name": "ipython",
    "version": 3
   },
   "file_extension": ".py",
   "mimetype": "text/x-python",
   "name": "python",
   "nbconvert_exporter": "python",
   "pygments_lexer": "ipython3",
   "version": "3.7.6"
  }
 },
 "nbformat": 4,
 "nbformat_minor": 4
}
